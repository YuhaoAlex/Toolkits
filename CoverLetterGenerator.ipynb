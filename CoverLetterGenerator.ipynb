{
 "cells": [
  {
   "cell_type": "code",
   "execution_count": 1,
   "metadata": {
    "collapsed": false
   },
   "outputs": [
    {
     "name": "stdout",
     "output_type": "stream",
     "text": [
      "Dear Hiring Manager,\n",
      "\n",
      "In my pursuit of new creative endeavors, I was excited to find the Business Analyst opportunity with The Accuro Group Company. As a progressive professional with data science and analyst intern experience, I believe that I can bring valuable contributions to your team.\n",
      "Formerly in my Data Scientist Intern role, my successes have stemmed from essential skills. I built a data pipeline using Python and SQL, which connects multiple data sources to the AWS cloud database. I'm also proficient in data processing and visualization tools like Excel and Tableau. By conducting A/B testing, I helped my employer to launch some changes which brought a considerable revenue increase. I am a collaborative team player who is always searching for opportunities to impart valuable insights. With these qualities, I am able to facilitate positive change and impacting outcomes.\n",
      "For a greater presentation of my background and qualifications, please review my attached resume. I am eager to speak with you and greatly appreciate your consideration.\n",
      "\n",
      "Sincerely,\n",
      "Yuhao Zhang\n"
     ]
    }
   ],
   "source": [
    "companyname = \"The Accuro Group\"\n",
    "position = \"Business Analyst\"\n",
    "\n",
    "text = \"Dear Hiring Manager,\\n\\nIn my pursuit of new creative endeavors, I was excited to find the {} opportunity with {} Company. As a progressive professional with data science and analyst intern experience, I believe that I can bring valuable contributions to your team.\\nFormerly in my Data Scientist Intern role, my successes have stemmed from essential skills. I built a data pipeline using Python and SQL, which connects multiple data sources to the AWS cloud database. I'm also proficient in data processing and visualization tools like Excel and Tableau. By conducting A/B testing, I helped my employer to launch some changes which brought a considerable revenue increase. I am a collaborative team player who is always searching for opportunities to impart valuable insights. With these qualities, I am able to facilitate positive change and impacting outcomes.\\nFor a greater presentation of my background and qualifications, please review my attached resume. I am eager to speak with you and greatly appreciate your consideration.\\n\\nSincerely,\\nYuhao Zhang\".format(position, companyname)\n",
    "\n",
    "print(text)"
   ]
  },
  {
   "cell_type": "code",
   "execution_count": 0,
   "metadata": {
    "collapsed": false
   },
   "outputs": [
   ],
   "source": [
   ]
  }
 ],
 "metadata": {
  "kernelspec": {
   "display_name": "Python 3 (system-wide)",
   "language": "python",
   "metadata": {
    "cocalc": {
     "description": "Python 3 programming language",
     "priority": 100,
     "url": "https://www.python.org/"
    }
   },
   "name": "python3"
  },
  "language_info": {
   "codemirror_mode": {
    "name": "ipython",
    "version": 3
   },
   "file_extension": ".py",
   "mimetype": "text/x-python",
   "name": "python",
   "nbconvert_exporter": "python",
   "pygments_lexer": "ipython3",
   "version": "3.8.5"
  }
 },
 "nbformat": 4,
 "nbformat_minor": 4
}